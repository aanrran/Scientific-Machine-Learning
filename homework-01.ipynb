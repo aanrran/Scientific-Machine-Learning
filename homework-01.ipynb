{
 "cells": [
  {
   "cell_type": "markdown",
   "metadata": {},
   "source": [
    "# Homework 1\n",
    "\n",
    "## References\n",
    "\n",
    "+ Lectures 1-3 (inclusive).\n",
    "\n",
    "## Instructions\n",
    "\n",
    "+ Type your name and email in the \"Student details\" section below.\n",
    "+ Develop the code and generate the figures you need to solve the problems using this notebook.\n",
    "+ For the answers that require a mathematical proof or derivation you should type them using latex. If you have never written latex before and you find it exceedingly difficult, we will likely accept handwritten solutions.\n",
    "+ The total homework points are 100. Please note that the problems are not weighed equally."
   ]
  },
  {
   "cell_type": "code",
   "execution_count": 1,
   "metadata": {
    "tags": [
     "hide-input"
    ]
   },
   "outputs": [],
   "source": [
    "import numpy as np\n",
    "import matplotlib.pyplot as plt\n",
    "%matplotlib inline\n",
    "import seaborn as sns\n",
    "sns.set(rc={\"figure.dpi\":100, \"savefig.dpi\":300})\n",
    "sns.set_context(\"notebook\")\n",
    "sns.set_style(\"ticks\")"
   ]
  },
  {
   "cell_type": "markdown",
   "metadata": {},
   "source": [
    "## Student details\n",
    "\n",
    "+ **First Name: Ran**\n",
    "+ **Last Name: An**\n",
    "+ **Email: an141@purdue.edu**"
   ]
  },
  {
   "cell_type": "markdown",
   "metadata": {},
   "source": [
    "## Problem 1\n",
    "\n",
    "Disclaimer: This example is a modified version of the one found in a 2013 lecture on Bayesian Scientific Computing taught by Prof. Nicholas Zabaras.\n",
    "I am not sure where the original problem is coming from.\n",
    "\n",
    "We are tasked with assessing the usefulness of a tuberculosis test.\n",
    "The prior information I is:\n",
    "\n",
    "> The percentage of the population infected by tuberculosis is 0.4\\%.\n",
    "We have run several experiments and determined that:\n",
    "+ If a tested patient has the disease, then 80\\% of the time the test comes out positive.\n",
    "+ If a tested patient does not have the disease, then 90\\% of the time the test comes out negative.\n",
    "\n",
    "To facilitate your analysis, consider the following logical sentences concerning a patient:\n",
    "\n",
    "> A: The patient is tested and the test is positive.\n",
    "\n",
    "> B: The patient has tuberculosis.\n",
    "\n",
    "A. Find the probability that the patient has tuberculosis (before looking at the result of the test), i.e., $p(B|I)$. This is known as the base rate or the prior probability.<br>\n",
    "**Answer:**\n"
   ]
  },
  {
   "cell_type": "markdown",
   "metadata": {},
   "source": [
    "$p(B|I) = 0.4\\% = 0.004$"
   ]
  },
  {
   "cell_type": "markdown",
   "metadata": {},
   "source": [
    "B. Find the probability that the test is positive given that the patient has tuberculosis, i.e., $p(A|B,I)$.<br>\n",
    "**Answer:**\n"
   ]
  },
  {
   "cell_type": "markdown",
   "metadata": {},
   "source": [
    "$p(A|B,I) = 80\\% = 0.8 $"
   ]
  },
  {
   "cell_type": "markdown",
   "metadata": {},
   "source": [
    "C. Find the probability that the test is positive given that the patient does not have tuberculosis, i.e., $p(A|\\neg B, I)$.<br>\n",
    "**Answer:**"
   ]
  },
  {
   "cell_type": "markdown",
   "metadata": {},
   "source": [
    "$p(A|\\neg B, I)$ = 1 - $p(\\neg A|\\neg B, I)$ = 1 - 90% = 10% = 0.1"
   ]
  },
  {
   "cell_type": "markdown",
   "metadata": {},
   "source": [
    "D. Find the probability that a patient that tested positive has tuberculosis, i.e., $p(B|A,I)$.<br>\n",
    "**Answer:**"
   ]
  },
  {
   "cell_type": "markdown",
   "metadata": {},
   "source": [
    "P(A|I) =  p(A,B|I) + p(A,$\\neg$B|I)<br> \n",
    "where, P($\\neg$B|I) = 1 - p(B|I) = 1 - 0.004 = 0.996 <br>\n",
    "and, p(A,B|I) = P(A|B,I)P(B|I) = 0.8$*$0.004 = 0.0032 <br>\n",
    "p(A,$\\neg$B|I) = P(A|$\\neg$B,I)P($\\neg$B|I) = 0.1$*$0.996 = 0.0996 <br>\n",
    "therefore, <br>\n",
    "P(A|I) = P(A|B,I)P(B|I) + P(A|$\\neg$B,I)P($\\neg$B|I) = 0.8$*$0.004 + 0.1$*$0.996 = 0.1028 <br>\n",
    "p(B|A,I) = p(A,B|I)/P(A|I) = 0.0032/0.1028 =0.0311284"
   ]
  },
  {
   "cell_type": "markdown",
   "metadata": {},
   "source": [
    "E. Find the probability that a patient that tested negative has tuberculosis, i.e., $p(B|\\neg A, I)$. Does the test change our prior state of knowledge about about the patient? Is the test useful?<br>\n",
    "**Answer:**"
   ]
  },
  {
   "cell_type": "markdown",
   "metadata": {},
   "source": [
    "p($\\neg$A|I) = 1 - p(A|I) = 1 - 0.1028 = 0.8972 <br>\n",
    "p($\\neg$A,B|I) = p(B|I) - p(A,B|I) = 0.004 - 0.0032 = 0.0008 <br>\n",
    "therefore, <br>\n",
    "p(B|$\\neg$A,I) = p($\\neg$A,B|I)/p($\\neg$A|I) = 0.0008/0.8972 = 0.00089166 <br>\n",
    "If the patient was tested negative, the probability of have tuberculosis is about 0.001, which is a small number, compared to our prior state of knowledge. The test does not change our prior state of knowledge about about the patient. Thus, the test is useful.<br>"
   ]
  },
  {
   "cell_type": "markdown",
   "metadata": {},
   "source": [
    "F. What would a good test look like? Find values for \n",
    "\n",
    "$$\n",
    "p(A|B,I)= p(\\text{test is positive} |\\text{has tuberculosis},I),\n",
    "$$\n",
    "\n",
    "and\n",
    "\n",
    "$$\n",
    "p(A| \\neg B, I) = p(\\text{test is positive}|\\text{does not have tuberculosis}, I),\n",
    "$$\n",
    "\n",
    "so that\n",
    "\n",
    "$$\n",
    "p(B|A, I) = p(\\text{has tuberculosis}|\\text{test is positive}, I) = 0.99.\n",
    "$$\n",
    "\n",
    "There are more than one solutions. How would you pick a good one? Thinking in this way can help you set goals if you work in R\\&D. If you have time, try to figure out whether or not there exists such an accurate test for tuberculosis<br>\n",
    "**Answer:**"
   ]
  },
  {
   "cell_type": "markdown",
   "metadata": {},
   "source": [
    "P(A|I) = P(A|B,I)P(B|I) + P(A|$\\neg$B,I)P($\\neg$B|I) = P(A|B,I)$*$0.004 + P(A|$\\neg$B,I)$*$0.996 <br>\n",
    "p(A,B|I) = P(A|B,I)P(B|I) = P(A|B,I)$*$0.004 <br>\n",
    "p(B|A,I) = p(A,B|I)/P(A|I) = 0.99 = P(A|B,I)$*$0.004/(P(A|B,I)$*$0.004 + P(A|$\\neg$B,I)$*$0.996) <br>\n",
    "derive from the above equation: <br>\n",
    "P(A|B,I)$*$0.004 = P(A|B,I)$*$0.00396 + P(A|$\\neg$B,I)$*$0.98604 <br>\n",
    "P(A|B,I)$*$0.00004 = P(A|$\\neg$B,I)$*$0.98604 <br>\n",
    "P(A|B,I)/P(A|$\\neg$B,I) = 24651 <br>\n",
    "Let me assume that the probability of positive result from a infected patient is high,  P(A|B,I) = 0.99 <br>\n",
    "Then, the probability of positive result from a healthy patient should be low, P(A|$\\neg$B,I) = 0.99/24651 = 0.00004016\n"
   ]
  },
  {
   "cell_type": "markdown",
   "metadata": {},
   "source": [
    "## Problem 2 - Practice with discrete random variables\n",
    "\n",
    "Consider the Categorical random variable:\n",
    "\n",
    "$$\n",
    "X \\sim \\operatorname{Categorical}(0.3, 0.1, 0.2, 0.4),\n",
    "$$\n",
    "\n",
    "taking values in $\\{0,1,2,3\\}$. Find the following (you may use ``scipy.stats.rv_discrete`` or do it by hand):"
   ]
  },
  {
   "cell_type": "markdown",
   "metadata": {},
   "source": [
    "A. The expectation $\\mathbb{E}[X]$.\n",
    "\n",
    "**Answer:**\n",
    "<br><br>"
   ]
  },
  {
   "cell_type": "code",
   "execution_count": 5,
   "metadata": {},
   "outputs": [
    {
     "name": "stdout",
     "output_type": "stream",
     "text": [
      "E[X] = 1.70\n"
     ]
    }
   ],
   "source": [
    "# Import the scipy.stats library\n",
    "import scipy.stats as st\n",
    "# Define the probabilities:\n",
    "ps = [0.3, 0.1, 0.2, 0.4] \n",
    "# And here are the corresponding values\n",
    "xs = np.array([0, 1, 2, 3])\n",
    "# Here is how you can define a categorical rv:\n",
    "X = st.rv_discrete(name=\"Custom Categorical\", values=(xs, ps))\n",
    "print(f\"E[X] = {X.expect():.2f}\")"
   ]
  },
  {
   "cell_type": "markdown",
   "metadata": {},
   "source": [
    "B. The variance $\\mathbb{V}[X]$.\n",
    "\n",
    "**Answer:**\n",
    "<br><br>"
   ]
  },
  {
   "cell_type": "code",
   "execution_count": 6,
   "metadata": {},
   "outputs": [
    {
     "name": "stdout",
     "output_type": "stream",
     "text": [
      "V[X] = 1.61\n"
     ]
    }
   ],
   "source": [
    "print(f\"V[X] = {X.var():.2f}\")"
   ]
  },
  {
   "cell_type": "markdown",
   "metadata": {},
   "source": [
    "C. Plot the probability mass function of $X$."
   ]
  },
  {
   "cell_type": "code",
   "execution_count": 7,
   "metadata": {},
   "outputs": [
    {
     "data": {
      "image/png": "[encoded data removed]",
      "text/plain": [
       "<Figure size 600x400 with 1 Axes>"
      ]
     },
     "metadata": {},
     "output_type": "display_data"
    }
   ],
   "source": [
    "fig, ax = plt.subplots()\n",
    "ax.bar(xs, X.pmf(xs))\n",
    "ax.set_xlabel(\"$x$\")\n",
    "ax.set_ylabel(\"$p(x)$\");"
   ]
  },
  {
   "cell_type": "markdown",
   "metadata": {},
   "source": [
    "D. Find the probability that $X$ is in $\\{0, 2\\}$.\n",
    "\n",
    "**Answer:**\n",
    "<br><br>"
   ]
  },
  {
   "cell_type": "code",
   "execution_count": 11,
   "metadata": {},
   "outputs": [
    {
     "name": "stdout",
     "output_type": "stream",
     "text": [
      "the probability is 0.50\n"
     ]
    }
   ],
   "source": [
    "p = X.pmf(0) + X.pmf(2)\n",
    "print(f\"the probability is {p:.2f}\")"
   ]
  },
  {
   "cell_type": "markdown",
   "metadata": {},
   "source": [
    "E. Find $\\mathbb{E}[4X + 3]$.\n",
    "\n",
    "**Answer:**\n",
    "<br><br>"
   ]
  },
  {
   "cell_type": "code",
   "execution_count": 9,
   "metadata": {},
   "outputs": [
    {
     "name": "stdout",
     "output_type": "stream",
     "text": [
      "E[exp(X)] = 9.80\n"
     ]
    }
   ],
   "source": [
    "E = np.sum((4*xs+3) * X.pmf(xs))\n",
    "print(f\"E[exp(X)] = {E:.2f}\")"
   ]
  },
  {
   "cell_type": "markdown",
   "metadata": {},
   "source": [
    "F. Find $\\mathbb{V}[4X+3]$.\n",
    "\n",
    "**Answer:**\n",
    "<br><br>"
   ]
  },
  {
   "cell_type": "code",
   "execution_count": 10,
   "metadata": {},
   "outputs": [
    {
     "name": "stdout",
     "output_type": "stream",
     "text": [
      "V[exp(X)] = 25.76\n"
     ]
    }
   ],
   "source": [
    "E_2 = np.sum((4*xs+3) ** 2 * X.pmf(xs))\n",
    "V = E_2 - E ** 2\n",
    "print(f\"V[exp(X)] = {V:.2f}\")"
   ]
  },
  {
   "cell_type": "markdown",
   "metadata": {},
   "source": [
    "## Problem 3 - Predicting the probability of major earthquakes in Southern California\n",
    "\n",
    "The [San Andreas fault](https://en.wikipedia.org/wiki/San_Andreas_Fault) extends through California forming the boundary between the Pacific and the North American tectonic plates.\n",
    "It has caused some of the major earthquakes on Earth.\n",
    "We are going to focus on Southern California and we would like to assess the probability of a major earthquake, defined as an earthquake of magnitude 6.5 or greater, during the next ten years.\n",
    "\n",
    "A. The first thing we are going to do is go over a [database of past earthquakes](https://scedc.caltech.edu/significant/chron-index.html) that have occured in Southern California and collect the relevant data. We are going to start at 1900 because data before that time may are unreliable.\n",
    "Go over each decade and count the occurence of a major earthquake (i.e., count the number of organge and red colors in each decade). We have done this for you."
   ]
  },
  {
   "cell_type": "code",
   "execution_count": 12,
   "metadata": {},
   "outputs": [
    {
     "data": {
      "image/png": "[encoded data removed]",
      "text/plain": [
       "<Figure size 900x600 with 1 Axes>"
      ]
     },
     "metadata": {},
     "output_type": "display_data"
    }
   ],
   "source": [
    "eq_data = np.array([\n",
    "    0, # 1900-1909\n",
    "    1, # 1910-1919\n",
    "    2, # 1920-1929\n",
    "    0, # 1930-1939\n",
    "    3, # 1940-1949\n",
    "    2, # 1950-1959\n",
    "    1, # 1960-1969\n",
    "    2, # 1970-1979\n",
    "    1, # 1980-1989\n",
    "    4, # 1990-1999\n",
    "    0, # 2000-2009\n",
    "    2 # 2010-2019 \n",
    "])\n",
    "fig, ax = plt.subplots(dpi=150)\n",
    "ax.bar(np.linspace(1900, 2019, eq_data.shape[0]), eq_data, width=10)\n",
    "ax.set_xlabel('Decade')\n",
    "ax.set_ylabel('# of major earthquakes in Southern CA');"
   ]
  },
  {
   "cell_type": "markdown",
   "metadata": {},
   "source": [
    "B. The [Poisson distribution](https://en.wikipedia.org/wiki/Poisson_distribution) is a discrete distribution with values $\\{0,1,2,\\dots\\}$ which is commonly used to model the number of events occuring in a certain time period.\n",
    "It is the right choice when these events are happening independently and the probability of any event happening over a small period of time is constant.\n",
    "Let's use the Poisson to model the number of earthquakes $X$ occuring in a decade.\n",
    "We write:\n",
    "\n",
    "$$\n",
    "X \\sim \\operatorname{Poisson}(r),\n",
    "$$\n",
    "\n",
    "where $r$ is the *rate parameter* of Poisson.\n",
    "The rate is the number of events per time period.\n",
    "Here, $r$ is the number of earthquakes per decade.\n",
    "Using the data above, we can set the rate as the empirical average of the observed number of earthquakes per decade:"
   ]
  },
  {
   "cell_type": "code",
   "execution_count": 13,
   "metadata": {},
   "outputs": [
    {
     "name": "stdout",
     "output_type": "stream",
     "text": [
      "r = 1.50 major earthquakes per decade\n"
     ]
    }
   ],
   "source": [
    "r = np.mean(eq_data)\n",
    "print('r = {0:1.2f} major earthquakes per decade'.format(r))"
   ]
  },
  {
   "cell_type": "markdown",
   "metadata": {},
   "source": [
    "Strictly speaking, **this is not how you should be calibrating models!!!**\n",
    "We will learn about the **right** way (which uses Bayes' rule) in the subsequent lectures.\n",
    "But it will do for now as the answer you would get using the **right** way is, for this problem, almost the same.\n",
    "Let's define a Poisson distribution using ``scipy.stats.poisson`` (see documentation [here](https://docs.scipy.org/doc/scipy/reference/generated/scipy.stats.poisson.html)):"
   ]
  },
  {
   "cell_type": "code",
   "execution_count": 14,
   "metadata": {},
   "outputs": [],
   "source": [
    "X = st.poisson(r)"
   ]
  },
  {
   "cell_type": "markdown",
   "metadata": {},
   "source": [
    "A. Plot the probability mass function of ``X``."
   ]
  },
  {
   "cell_type": "code",
   "execution_count": 17,
   "metadata": {},
   "outputs": [
    {
     "data": {
      "image/png": "[encoded data removed]",
      "text/plain": [
       "<Figure size 600x400 with 1 Axes>"
      ]
     },
     "metadata": {},
     "output_type": "display_data"
    }
   ],
   "source": [
    "ks = range(6)\n",
    "fig, ax = plt.subplots()\n",
    "ax.bar(ks, X.pmf(ks))\n",
    "ax.set_xlabel('Number of major earthquakes in next Decade')\n",
    "ax.set_ylabel('Probability of occurance');"
   ]
  },
  {
   "cell_type": "markdown",
   "metadata": {},
   "source": [
    "B. What is the probability that at least one major earthquake will occur during the next decade?<br>\n",
    "**Answer:**\n",
    "<br><br><br><br><br><br><br><br>"
   ]
  },
  {
   "cell_type": "code",
   "execution_count": 18,
   "metadata": {},
   "outputs": [
    {
     "name": "stdout",
     "output_type": "stream",
     "text": [
      "the probablity that at least one major earthquake will occur during the next decade is 0.78\n"
     ]
    }
   ],
   "source": [
    "p = 1 - X.pmf(0)\n",
    "print(f\"the probablity that at least one major earthquake will occur during the next decade is {p:.2f}\")"
   ]
  },
  {
   "cell_type": "markdown",
   "metadata": {},
   "source": [
    "C. What is the probability that at least one major earthquake will occur during the next two decades?\n",
    "Hint: Consider two independent and identical copies of $X$, say $X_1$ and $X_2$.\n",
    "And consider their sum $Y = X_1 + X_2$. Read [this](https://en.wikipedia.org/wiki/Poisson_distribution#Sums_of_Poisson-distributed_random_variables) about the sum of two independent Poisson distributions.\n",
    "<br>\n",
    "**Answer:**"
   ]
  },
  {
   "cell_type": "markdown",
   "metadata": {},
   "source": [
    "E(Y) = E(X1 + X2) = E(X1)+E(X2) = 1.5 + 1.5 = 3 <br>\n",
    "Assuming that the model for earth quakes in 2 decades is also Poisson distribution. The same as its 1 decades counterpart. "
   ]
  },
  {
   "cell_type": "code",
   "execution_count": 23,
   "metadata": {},
   "outputs": [
    {
     "name": "stdout",
     "output_type": "stream",
     "text": [
      "the probablity that at least one major earthquake will occur during the next two decade is 0.95\n"
     ]
    }
   ],
   "source": [
    "Y = st.poisson(3.0)\n",
    "p = 1 - Y.pmf(0)\n",
    "print(f\"the probablity that at least one major earthquake will occur during the next two decade is {p:.2f}\")"
   ]
  },
  {
   "cell_type": "markdown",
   "metadata": {},
   "source": [
    "D. What is the probability that at least one major earthquake will occur during the next five decades?<br>\n",
    "**Answer:**"
   ]
  },
  {
   "cell_type": "code",
   "execution_count": 25,
   "metadata": {},
   "outputs": [
    {
     "name": "stdout",
     "output_type": "stream",
     "text": [
      "the probablity that at least one major earthquake will occur during the next two decade is 0.99945\n"
     ]
    }
   ],
   "source": [
    "Z = st.poisson(1.5*5)\n",
    "p = 1 - Z.pmf(0)\n",
    "print(f\"the probablity that at least one major earthquake will occur during the next two decade is {p:.5f}\")"
   ]
  }
 ],
 "metadata": {
  "celltoolbar": "Tags",
  "kernelspec": {
   "display_name": "Python 3 (ipykernel)",
   "language": "python",
   "name": "python3"
  },
  "language_info": {
   "codemirror_mode": {
    "name": "ipython",
    "version": 3
   },
   "file_extension": ".py",
   "mimetype": "text/x-python",
   "name": "python",
   "nbconvert_exporter": "python",
   "pygments_lexer": "ipython3",
   "version": "3.9.12"
  }
 },
 "nbformat": 4,
 "nbformat_minor": 4
}
